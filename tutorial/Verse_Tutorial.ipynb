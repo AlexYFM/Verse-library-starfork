{
 "cells": [
  {
   "cell_type": "markdown",
   "id": "9cb21069",
   "metadata": {},
   "source": [
    "# 1. Getting Started"
   ]
  },
  {
   "cell_type": "markdown",
   "id": "6ee9346d",
   "metadata": {},
   "source": [
    "A verse scenario is defined by a map, a set of agents and, if there exist multiple agents, a sensor. "
   ]
  },
  {
   "cell_type": "markdown",
   "id": "d34d63e6",
   "metadata": {},
   "source": [
    "In this section, we are going to look at how to create a simple scenario in Verse. In this scenario we will have only one car following a straight lane and will brake after reaching a certain position. "
   ]
  },
  {
   "cell_type": "markdown",
   "id": "5e80ec75",
   "metadata": {},
   "source": [
    "## 1.1 Instantiate map\n",
    "The map of a scenario specifies the tracks that the agents can follow. In this example, we will only look at a simple map we one straight lane aligned with the x-axis with type <code>T0</code>, which are also referred as track mode in later sections. We will talk about how to create more interesting maps in later sections"
   ]
  },
  {
   "cell_type": "code",
   "execution_count": null,
   "id": "d789ceb2",
   "metadata": {},
   "outputs": [],
   "source": [
    "from tutorial_map import M1\n",
    "\n",
    "map1 = M1()"
   ]
  },
  {
   "cell_type": "markdown",
   "id": "3b120f0c",
   "metadata": {},
   "source": [
    "## 1.2 Creating agent\n",
    "To create such a scenario in Verse, we first need to create an agent for Verse. An agent in Verse is defined by a set of tactical modes, a decision logic to determine the transition between tactical modes, and a flow function that defines continuous evolution. The agent's tactical mode and decision logic are provided as python code strings and the flow function is provided as a python function. "
   ]
  },
  {
   "cell_type": "markdown",
   "id": "96d7ce5e",
   "metadata": {},
   "source": [
    "The tactical mode of the agents corresponds to an agent's decision. For example, in this car braking example, the tactical mode for the agent can be <code>Normal</code> and <code>Brake</code>. The decision logic also need to know the available track modes from the map. The tactical modes and track modes are provided as <code>Enums</code> to Verse.  "
   ]
  },
  {
   "cell_type": "code",
   "execution_count": null,
   "id": "0fbb7f1f",
   "metadata": {},
   "outputs": [],
   "source": [
    "from enum import Enum, auto\n",
    "\n",
    "class AgentMode(Enum):\n",
    "    Normal = auto()\n",
    "    Brake = auto()\n",
    "    \n",
    "class TrackMode(Enum):\n",
    "    T0 = auto()"
   ]
  },
  {
   "cell_type": "markdown",
   "id": "25ec7639",
   "metadata": {},
   "source": [
    "We also require the user to provide the continuous and discrete variables of the agents together with the decision logic. The variables are provided inside class with name <code>State</code>. Variables end with <code>_mode</code> will be identify by verse as discrete variables. In the example below, <code>agent_mode</code> and <code>track_mode</code> are the discrete variables and <code>x</code>, <code>y</code>, <code>theta</code>, <code>v</code> are the continuous variables. The type hints for the discrete variables are necessary to associate discrete variables with the tactical modes and lane modes defined above"
   ]
  },
  {
   "cell_type": "code",
   "execution_count": null,
   "id": "7edf89dc",
   "metadata": {},
   "outputs": [],
   "source": [
    "class State:\n",
    "    x:float\n",
    "    y:float\n",
    "    theta:float\n",
    "    v:float\n",
    "    agent_mode:AgentMode \n",
    "    track_mode:TrackMode \n",
    "\n",
    "    def __init__(self, x, y, theta, v, agent_mode: AgentMode, track_mode: TrackMode):\n",
    "        pass"
   ]
  },
  {
   "cell_type": "markdown",
   "id": "3b0ea818",
   "metadata": {},
   "source": [
    "The decision logic describe for an agent takes as input its current state and the (observable) states of the other agents if there's any, and updates the tactical mode of the ego agent. In this example, the decision logic is traight forward: When the x position of the car is above certain threshold, the car will starts to brake. This's no other agents in this scenario. The decision logic of the agent can be written in an expressive subset of Python inside function <code>decisionLogic</code>. "
   ]
  },
  {
   "cell_type": "code",
   "execution_count": null,
   "id": "ba6e3ba2",
   "metadata": {},
   "outputs": [],
   "source": [
    "import copy\n",
    "def decisionLogic(ego:State, track_map):\n",
    "    output = copy.deepcopy(ego)\n",
    "    if ego.agent_mode == AgentMode.Normal:\n",
    "        if ego.x > 10:\n",
    "            output.agent_mode = AgentMode.Brake\n",
    "    return output"
   ]
  },
  {
   "cell_type": "markdown",
   "id": "a6a323e4",
   "metadata": {},
   "source": [
    "We incoperate the above definition of tactical modes and decision logic into code strings and combine it with an imported agent flow, we can then obtain the agent for this sceanrio. "
   ]
  },
  {
   "cell_type": "code",
   "execution_count": null,
   "id": "61837729",
   "metadata": {},
   "outputs": [],
   "source": [
    "from tutorial_agent import Agent1\n",
    "car = Agent1('car', file_name=\"dl_sec1.py\")"
   ]
  },
  {
   "cell_type": "markdown",
   "id": "9eb4979a",
   "metadata": {},
   "source": [
    "## 1.3 Creating scenario\n",
    "With the agent and map defined, we can now define the scenario."
   ]
  },
  {
   "cell_type": "code",
   "execution_count": null,
   "id": "b046fe36",
   "metadata": {},
   "outputs": [],
   "source": [
    "from verse.scenario import Scenario\n",
    "scenario = Scenario()"
   ]
  },
  {
   "cell_type": "markdown",
   "id": "549cd907",
   "metadata": {},
   "source": [
    "We can set the initial condition of the agent and add the agent "
   ]
  },
  {
   "cell_type": "code",
   "execution_count": null,
   "id": "6f54eada",
   "metadata": {},
   "outputs": [],
   "source": [
    "car.set_initial([[0,-0.5,0,2],[1,0.5,0,2]], (AgentMode.Normal, TrackMode.T0))\n",
    "scenario.add_agent(car)"
   ]
  },
  {
   "cell_type": "markdown",
   "id": "2366ed3a",
   "metadata": {},
   "source": [
    "and set the map for the sceanrio"
   ]
  },
  {
   "cell_type": "code",
   "execution_count": null,
   "id": "a1e2a90c",
   "metadata": {},
   "outputs": [],
   "source": [
    "scenario.set_map(map1)"
   ]
  },
  {
   "cell_type": "markdown",
   "id": "52b2b0cb",
   "metadata": {},
   "source": [
    "Since we only have one agent in the scenario, we don't need to specify a sensor. "
   ]
  },
  {
   "cell_type": "markdown",
   "id": "b9e32951",
   "metadata": {},
   "source": [
    "We can then compute simulation traces or reachable states for the scenario"
   ]
  },
  {
   "cell_type": "code",
   "execution_count": null,
   "id": "cc1cdb50",
   "metadata": {},
   "outputs": [],
   "source": [
    "traces_simu = scenario.simulate(10, 0.01)\n",
    "traces_veri = scenario.verify(10, 0.01)"
   ]
  },
  {
   "cell_type": "markdown",
   "id": "4e33613e",
   "metadata": {},
   "source": [
    "We can visualize the results using functions provided with Verse"
   ]
  },
  {
   "cell_type": "code",
   "execution_count": null,
   "id": "c1d70fcf",
   "metadata": {},
   "outputs": [],
   "source": [
    "import plotly.graph_objects as go\n",
    "from verse.plotter.plotter2D import *\n",
    "\n",
    "fig = go.Figure()\n",
    "fig = simulation_tree(traces_simu, None, fig, 0, 1, [0, 1], 'lines', 'trace')\n",
    "fig.show()\n",
    "\n",
    "fig = go.Figure()\n",
    "fig = reachtube_tree(traces_veri, None, fig, 0, 1, [0, 1], 'lines', 'trace')\n",
    "fig.show()"
   ]
  },
  {
   "cell_type": "markdown",
   "id": "1e162f7f",
   "metadata": {},
   "source": [
    "# 2. Adding multiple agents"
   ]
  },
  {
   "cell_type": "markdown",
   "id": "e947eec4",
   "metadata": {},
   "source": [
    "In the previous section, we played around with a scenario with a single vehicle. In this example, we will create a scenario with multiple agents and explore the potential of Verse to handle multi-agent scenarios. "
   ]
  },
  {
   "cell_type": "markdown",
   "id": "7c233fa9",
   "metadata": {},
   "source": [
    "In this example, we will look at a two car braking example. Two cars will be running in same direction on the same lane with the front car running slower than the later car. The later car will brake and stop when it gets in 5m from the front car.  "
   ]
  },
  {
   "cell_type": "markdown",
   "id": "cbe185ab",
   "metadata": {},
   "source": [
    "We will first setup a new scenario and add the map."
   ]
  },
  {
   "cell_type": "code",
   "execution_count": null,
   "id": "a7ce4fd2",
   "metadata": {},
   "outputs": [],
   "source": [
    "from verse.scenario import Scenario\n",
    "from tutorial_map import M1\n",
    "scenario = Scenario()\n",
    "scenario.set_map(M1())"
   ]
  },
  {
   "cell_type": "markdown",
   "id": "ddae7760",
   "metadata": {},
   "source": [
    "We will use the same tactical mode, track mode and state definition as last section."
   ]
  },
  {
   "cell_type": "code",
   "execution_count": null,
   "id": "32205aa3",
   "metadata": {},
   "outputs": [],
   "source": [
    "from enum import Enum, auto\n",
    "\n",
    "class AgentMode(Enum):\n",
    "    Normal = auto()\n",
    "    Brake = auto()\n",
    "    \n",
    "class TrackMode(Enum):\n",
    "    T0 = auto()\n",
    "    \n",
    "class State:\n",
    "    x:float\n",
    "    y:float\n",
    "    theta:float\n",
    "    v:float\n",
    "    agent_mode:AgentMode \n",
    "    track_mode:TrackMode \n",
    "\n",
    "    def __init__(self, x, y, theta, v, agent_mode: AgentMode, track_mode: TrackMode):\n",
    "        pass"
   ]
  },
  {
   "cell_type": "markdown",
   "id": "38300e84",
   "metadata": {},
   "source": [
    "Verse's decision logic support python <code>any</code> and <code>all</code> functions, which allows the decision logic to quantify over other agents in the scenario. This enable user to easily create multi-agent scenario. In this case, the decision logic will take an additional argument <code>others</code>, which provides the states for other agents. Notice the type hint for both <code>ego</code> and <code>others</code>. The updated agent's decision logic looks like following."
   ]
  },
  {
   "cell_type": "code",
   "execution_count": null,
   "id": "57d0747c",
   "metadata": {},
   "outputs": [],
   "source": [
    "from typing import List\n",
    "import copy\n",
    "def decisionLogic(ego:State, others: List[State], track_map):\n",
    "    output = copy.deepcopy(ego)\n",
    "    if ego.agent_mode == AgentMode.Normal:\n",
    "        if any(other.x-ego.x< 8 and other.x-ego.x>0 for other in others):\n",
    "            output.agent_mode = AgentMode.Brake\n",
    "    return output"
   ]
  },
  {
   "cell_type": "markdown",
   "id": "7c927d21",
   "metadata": {},
   "source": [
    "With the updated decision logic, we can now spawn the two agents with their initial conditions. "
   ]
  },
  {
   "cell_type": "code",
   "execution_count": null,
   "id": "2187c4b7",
   "metadata": {},
   "outputs": [],
   "source": [
    "from tutorial_agent import Agent1\n",
    "car1 = Agent1('car1', file_name=\"dl_sec2.py\")\n",
    "car1.set_initial([[0,-0.5,0,2],[1,0.5,0,2]], (AgentMode.Normal, TrackMode.T0))\n",
    "car2 = Agent1('car2', file_name=\"dl_sec2.py\")\n",
    "car2.set_initial([[15,-0.5,0,1],[16,0.5,0,1]], (AgentMode.Normal, TrackMode.T0))"
   ]
  },
  {
   "cell_type": "markdown",
   "id": "518d6ea4",
   "metadata": {},
   "source": [
    "We can then add both agents to the scenario"
   ]
  },
  {
   "cell_type": "code",
   "execution_count": null,
   "id": "a16287c3",
   "metadata": {},
   "outputs": [],
   "source": [
    "scenario.add_agent(car1)\n",
    "scenario.add_agent(car2)"
   ]
  },
  {
   "cell_type": "markdown",
   "id": "468ca941",
   "metadata": {},
   "source": [
    "With multiple agents in the scenario, we now need to add the sensor. The sensor defines how an agent is visible to other agents. In this example, we will use the default sensor function, which allows all agents to see all variables of other agents. "
   ]
  },
  {
   "cell_type": "code",
   "execution_count": null,
   "id": "d39dbe69",
   "metadata": {},
   "outputs": [],
   "source": [
    "from tutorial_sensor import DefaultSensor\n",
    "scenario.set_sensor(DefaultSensor())"
   ]
  },
  {
   "cell_type": "markdown",
   "id": "db79f70b",
   "metadata": {},
   "source": [
    "With the scenario fully constructed, we can now simulte or verify the scenario using the simulate/verify function provided by Verse. "
   ]
  },
  {
   "cell_type": "code",
   "execution_count": null,
   "id": "c48ad5ad",
   "metadata": {},
   "outputs": [],
   "source": [
    "traces_simu = scenario.simulate(10, 0.01)\n",
    "traces_veri = scenario.verify(10, 0.01)"
   ]
  },
  {
   "cell_type": "markdown",
   "id": "fe9981ec",
   "metadata": {},
   "source": [
    "We can visualize the results using functions provided with Verse"
   ]
  },
  {
   "cell_type": "code",
   "execution_count": null,
   "id": "5d180128",
   "metadata": {},
   "outputs": [],
   "source": [
    "import plotly.graph_objects as go\n",
    "from verse.plotter.plotter2D import *\n",
    "\n",
    "fig = go.Figure()\n",
    "fig = simulation_tree(traces_simu, None, fig, 0, 1, [0, 1], 'lines', 'trace')\n",
    "fig.show()\n",
    "\n",
    "fig = go.Figure()\n",
    "fig = reachtube_tree(traces_veri, None, fig, 0, 1, [0, 1], 'lines', 'trace')\n",
    "fig.show()"
   ]
  },
  {
   "cell_type": "markdown",
   "id": "42c81f78",
   "metadata": {},
   "source": [
    "# 3. Adding safety assertions"
   ]
  },
  {
   "cell_type": "code",
   "execution_count": null,
   "id": "d046cc9d",
   "metadata": {},
   "outputs": [],
   "source": [
    "from verse.scenario import Scenario\n",
    "from tutorial_map import M1\n",
    "scenario = Scenario()\n",
    "scenario.config.init_seg_length = 5\n",
    "scenario.set_map(M1())"
   ]
  },
  {
   "cell_type": "code",
   "execution_count": null,
   "id": "9f137299",
   "metadata": {},
   "outputs": [],
   "source": [
    "from enum import Enum, auto\n",
    "\n",
    "class AgentMode(Enum):\n",
    "    Normal = auto()\n",
    "    Brake = auto()\n",
    "    \n",
    "class TrackMode(Enum):\n",
    "    T0 = auto()\n",
    "    \n",
    "class State:\n",
    "    x:float\n",
    "    y:float\n",
    "    theta:float\n",
    "    v:float\n",
    "    agent_mode:AgentMode \n",
    "    track_mode:TrackMode \n",
    "\n",
    "    def __init__(self, x, y, theta, v, agent_mode: AgentMode, track_mode: TrackMode):\n",
    "        pass"
   ]
  },
  {
   "cell_type": "markdown",
   "id": "ea4a9f2c",
   "metadata": {},
   "source": [
    "Verse allow checking safety conditions while performing simulation and verification. The safety conditions in verse can be specified using Python assert statements in the decision logic. With the <code>any</code> and <code>all</code> functions, the user can also define safety conditions between different agents. In this example, we are going to add a safety condition that the distance between two agents in x direction should always be greater than or equan to 1.0m. The updated decision logic is shown below. "
   ]
  },
  {
   "cell_type": "code",
   "execution_count": null,
   "id": "7a5d64cb",
   "metadata": {},
   "outputs": [],
   "source": [
    "from typing import List\n",
    "import copy\n",
    "def decisionLogic(ego:State, others: List[State], track_map):\n",
    "    output = copy.deepcopy(ego)\n",
    "    if ego.agent_mode == AgentMode.Normal:\n",
    "        if any( other.x-ego.x< 8 and other.x-ego.x>0 for other in others):\n",
    "            output.agent_mode = AgentMode.Brake\n",
    "    \n",
    "    ### Adding safety assertions\n",
    "    assert not any(other.x-ego.x<1.0 and other.x-ego.x>-1.0 for other in others), 'Seperation'\n",
    "    ##########\n",
    "    \n",
    "    return output"
   ]
  },
  {
   "cell_type": "markdown",
   "id": "361154ca",
   "metadata": {},
   "source": [
    "We can then construct the two agents and the scenario exactly as previous section."
   ]
  },
  {
   "cell_type": "code",
   "execution_count": null,
   "id": "4251f544",
   "metadata": {},
   "outputs": [],
   "source": [
    "from tutorial_agent import Agent1\n",
    "car1 = Agent1('car1', file_name=\"dl_sec3.py\")\n",
    "car1.set_initial([[0,-0.5,0,2],[1,0.5,0,2]], (AgentMode.Normal, TrackMode.T0))\n",
    "car2 = Agent1('car2', file_name=\"dl_sec3.py\")\n",
    "car2.set_initial([[15,-0.5,0,1],[16,0.5,0,1]], (AgentMode.Normal, TrackMode.T0))\n",
    "scenario.add_agent(car1)\n",
    "scenario.add_agent(car2)\n",
    "from tutorial_sensor import DefaultSensor\n",
    "scenario.set_sensor(DefaultSensor())"
   ]
  },
  {
   "cell_type": "markdown",
   "id": "5cb2f06a",
   "metadata": {},
   "source": [
    "We can then simulate and verify the scenario and visualize the result. We can see from the result that this scenario is safe. "
   ]
  },
  {
   "cell_type": "code",
   "execution_count": null,
   "id": "736897de",
   "metadata": {},
   "outputs": [],
   "source": [
    "traces_simu = scenario.simulate(10, 0.01)\n",
    "traces_veri = scenario.verify(10, 0.01)"
   ]
  },
  {
   "cell_type": "code",
   "execution_count": null,
   "id": "e31dc9ff",
   "metadata": {},
   "outputs": [],
   "source": [
    "import plotly.graph_objects as go\n",
    "from verse.plotter.plotter2D import *\n",
    "\n",
    "fig = go.Figure()\n",
    "fig = simulation_tree(traces_simu, None, fig, 0, 1, [0, 1], 'lines', 'trace')\n",
    "fig.show()\n",
    "\n",
    "fig = go.Figure()\n",
    "fig = reachtube_tree(traces_veri, None, fig, 0, 1, [0, 1], 'lines', 'trace')\n",
    "fig.show()"
   ]
  },
  {
   "cell_type": "markdown",
   "id": "19ec1f20",
   "metadata": {},
   "source": [
    "If we tweak the initial condition of car1 by increasing it's speed to 6m/s and redo verification, the safety condition is violated and the result is shown in the plot. "
   ]
  },
  {
   "cell_type": "code",
   "execution_count": null,
   "id": "c6682e63",
   "metadata": {},
   "outputs": [],
   "source": [
    "scenario.set_init_single('car1',[[0,-0.5,0,5],[1,0.5,0,5]], (AgentMode.Normal, TrackMode.T0))\n",
    "\n",
    "traces_veri = scenario.verify(10, 0.01)"
   ]
  },
  {
   "cell_type": "code",
   "execution_count": null,
   "id": "5393d213",
   "metadata": {},
   "outputs": [],
   "source": [
    "import plotly.graph_objects as go\n",
    "from verse.plotter.plotter2D import *\n",
    "\n",
    "fig = go.Figure()\n",
    "fig = reachtube_tree(traces_veri, None, fig, 0, 1, [0, 1], 'lines', 'trace')\n",
    "fig.show()"
   ]
  },
  {
   "cell_type": "markdown",
   "id": "351d0b71",
   "metadata": {},
   "source": [
    "# 4. Creating agent flow"
   ]
  },
  {
   "cell_type": "markdown",
   "id": "9ed472ab",
   "metadata": {},
   "source": [
    "In previous sections, we discussed about how to create the decision logic for agents in Verse, in section we will look into detail about how the agent flows are specified and how the pieces are combined together for an agent in Verse. "
   ]
  },
  {
   "cell_type": "markdown",
   "id": "dd2ddad5",
   "metadata": {},
   "source": [
    "The flow function define the continuous time evolution of agents' continuous states. It takes as input the initial states of the agent and the a time, and outputs the state of the agent from that initial states at that time. In Verse, the flow function is implemented by the <code>TC_simulate</code> function in the agent class. The <code>TC_simulate</code> takes as input a mode, a initial continuous states, a time bound, a simulation time step and the map. It will output simulation of agent dynamics at given mode starting from the initial continuous states, until the time bound with time step as an np array. Below shows an implementation of the <code>TC_simulate</code> function for the car agent. Note some detail helper functions for the car dynamics placed in <code>tutorial_utils</code> are not shown explicitly in the example below. "
   ]
  },
  {
   "cell_type": "code",
   "execution_count": null,
   "id": "c1dda851",
   "metadata": {},
   "outputs": [],
   "source": [
    "from tutorial_utils import car_dynamics, car_action_handler\n",
    "import numpy as np \n",
    "from scipy.integrate import ode\n",
    "\n",
    "def TC_simulate(self, mode: List[str], initialCondition, time_bound, time_step, track_map=None)->np.ndarray:\n",
    "    time_bound = float(time_bound)\n",
    "    number_points = int(np.ceil(time_bound/time_step))\n",
    "    t = [round(i*time_step,10) for i in range(0,number_points)]\n",
    "\n",
    "    init = initialCondition\n",
    "    trace = [[0]+init]\n",
    "    for i in range(len(t)):\n",
    "        steering, a = car_action_handler(mode, init, track_map)\n",
    "        r = ode(car_dynamics)    \n",
    "        r.set_initial_value(init).set_f_params([steering, a])      \n",
    "        res:np.ndarray = r.integrate(r.t + time_step)\n",
    "        init = res.flatten().tolist()\n",
    "        if init[3] < 0:\n",
    "            init[3] = 0\n",
    "        trace.append([t[i] + time_step] + init) \n",
    "\n",
    "    return np.array(trace)\n"
   ]
  },
  {
   "cell_type": "markdown",
   "id": "3c2e6579",
   "metadata": {},
   "source": [
    "With the <code>TC_simulate</code> function specified, we can now combine all parts together to construct a new car agent. An agent class for Verse should have three attributes: 1) <code>id</code>: an unique identifier for each agent in a scenario, 2) <code>controller</code>: a <code>ControllerIR</code> object, which is an intermediate representation of decisionLogic in Verse. It can be constructed automatically by passing in the decision logic code strings described in previous sections, and 3) <code>TC_simulate</code> function. In this example we will create the agent class manually. However, the agent class can also be inherited from the <code>BaseAgent</code> class with proper arguments to automatically having all required fields."
   ]
  },
  {
   "cell_type": "code",
   "execution_count": null,
   "id": "86626628",
   "metadata": {},
   "outputs": [],
   "source": [
    "class Agent2:\n",
    "    pass"
   ]
  },
  {
   "cell_type": "code",
   "execution_count": null,
   "id": "2a233433",
   "metadata": {},
   "outputs": [],
   "source": []
  }
 ],
 "metadata": {
  "interpreter": {
   "hash": "04a7a195f934deca871ac715d77171c6df8c591438a5013fd2b54f1822da2e09"
  },
  "kernelspec": {
   "display_name": "Python 3.8.10 64-bit ('venv': venv)",
   "name": "python3"
  },
  "language_info": {
   "codemirror_mode": {
    "name": "ipython",
    "version": 3
   },
   "file_extension": ".py",
   "mimetype": "text/x-python",
   "name": "python",
   "nbconvert_exporter": "python",
   "pygments_lexer": "ipython3",
   "version": "3.8.10"
  },
  "vscode": {
   "interpreter": {
    "hash": "f525a91698caa887845889e619085521c4ece5025fa1a5d5d490d4fd60493b54"
   }
  },
  "widgets": {
   "application/vnd.jupyter.widget-state+json": {
    "state": {},
    "version_major": 2,
    "version_minor": 0
   }
  }
 },
 "nbformat": 4,
 "nbformat_minor": 5
}
