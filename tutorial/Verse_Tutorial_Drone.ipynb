{
 "cells": [
  {
   "cell_type": "markdown",
   "id": "9cb21069",
   "metadata": {},
   "source": [
    "# 1. Getting Started"
   ]
  },
  {
   "cell_type": "markdown",
   "id": "6ee9346d",
   "metadata": {},
   "source": [
    "A verse scenario is defined by a map, a set of agents and, if there exist multiple agents, a sensor. "
   ]
  },
  {
   "cell_type": "markdown",
   "id": "d34d63e6",
   "metadata": {},
   "source": [
    "In this section, we are going to look at how to create a simple scenario in Verse. In this scenario we will have a drone following a straight track and will avoid by moving upwards to avoid a static obstacle at known position in the track. "
   ]
  },
  {
   "cell_type": "markdown",
   "id": "5e80ec75",
   "metadata": {},
   "source": [
    "## 1.1 Instantiate map\n",
    "The map of a scenario specifies the tracks that the agents can follow. In this example, we will only look at a simple map with two types of tracks: 1) type <code>T0</code>, which describe straight track that align with x-axis and 2) type <code>TAvoidUp</code>, which describes set of tracks with upward direction that the agent can follow while avoiding the obstacle. The types of tracks will also be referred as track modes in later sections. We will discuss in detail how to create maps in later sections. In this section we will import a pre-defined map. "
   ]
  },
  {
   "cell_type": "code",
   "execution_count": 1,
   "id": "d789ceb2",
   "metadata": {},
   "outputs": [
    {
     "name": "stderr",
     "output_type": "stream",
     "text": [
      "`polytope` failed to import `cvxopt.glpk`.\n",
      "will use `scipy.optimize.linprog`\n"
     ]
    }
   ],
   "source": [
    "from tutorial_map import M3\n",
    "\n",
    "map1 = M3()"
   ]
  },
  {
   "cell_type": "markdown",
   "id": "3b120f0c",
   "metadata": {},
   "source": [
    "## 1.2 Creating agent\n",
    "To create such a scenario in Verse, we first need to create an agent for Verse. An agent in Verse is defined by a set of tactical modes, a decision logic to determine the transition between tactical modes, and a flow function that defines continuous evolution. The agent's tactical mode and decision logic are provided as python code strings and the flow function is provided as a python function. "
   ]
  },
  {
   "cell_type": "markdown",
   "id": "96d7ce5e",
   "metadata": {},
   "source": [
    "The tactical mode of the agents corresponds to an agent's decision. For example, in this drone avoidance example, the tactical mode for the agent can be <code>Normal</code> and <code>AvoidUp</code>. The decision logic also need to know the available track modes from the map. The tactical modes and track modes are provided as <code>Enums</code> to Verse.  "
   ]
  },
  {
   "cell_type": "code",
   "execution_count": 2,
   "id": "0fbb7f1f",
   "metadata": {},
   "outputs": [],
   "source": [
    "from enum import Enum, auto\n",
    "\n",
    "class CraftMode(Enum):\n",
    "    Normal = auto()\n",
    "    AvoidUp = auto()\n",
    "    \n",
    "class TrackMode(Enum):\n",
    "    T0 = auto()\n",
    "    TAvoidUp = auto()"
   ]
  },
  {
   "cell_type": "markdown",
   "id": "25ec7639",
   "metadata": {},
   "source": [
    "We also require the user to provide the continuous and discrete variables of the agents together with the decision logic. The variables are provided inside class with name <code>State</code>. Variables end with <code>_mode</code> will be identify by verse as discrete variables. In the example below, <code>craft_mode</code> and <code>track_mode</code> are the discrete variables and <code>x</code>, <code>y</code>, <code>z</code>, <code>vx</code>, <code>vy</code>, <code>vz</code> are the continuous variables. The type hints for the discrete variables are necessary to associate discrete variables with the tactical modes and lane modes defined above"
   ]
  },
  {
   "cell_type": "code",
   "execution_count": 3,
   "id": "7edf89dc",
   "metadata": {},
   "outputs": [],
   "source": [
    "class State:\n",
    "    x: float\n",
    "    y: float\n",
    "    z: float\n",
    "    vx: float\n",
    "    vy: float\n",
    "    vz: float\n",
    "    craft_mode: CraftMode\n",
    "    track_mode: TrackMode\n",
    "\n",
    "    def __init__(self, x, y, z, vx, vy, vz, craft_mode, track_mode):\n",
    "        pass"
   ]
  },
  {
   "cell_type": "markdown",
   "id": "3b0ea818",
   "metadata": {},
   "source": [
    "The decision logic describe for an agent takes as input its current state and the (observable) states of the other agents if there's any, and updates the tactical mode of the ego agent. In this example, the decision logic is traight forward: When the x position of the drone is close to the obstacle (20m), the drone will start moving upward. There's no other agents in this scenario. The decision logic of the agent can be written in an expressive subset of Python inside function <code>decisionLogic</code>. "
   ]
  },
  {
   "cell_type": "code",
   "execution_count": 4,
   "id": "ba6e3ba2",
   "metadata": {},
   "outputs": [],
   "source": [
    "import copy\n",
    "def decisionLogic(ego: State, track_map):\n",
    "    next = copy.deepcopy(ego)\n",
    "    if ego.craft_mode == CraftMode.Normal:\n",
    "        if ego.x > 20 :\n",
    "            next.craft_mode = CraftMode.AvoidUp\n",
    "            next.track_mode = track_map.h(ego.track_mode, ego.craft_mode, CraftMode.AvoidUp)\n",
    "    return next"
   ]
  },
  {
   "cell_type": "markdown",
   "id": "a6a323e4",
   "metadata": {},
   "source": [
    "We incoperate the above definition of tactical modes and decision logic into code strings and combine it with an imported agent flow, we can then obtain the agent for this sceanrio. "
   ]
  },
  {
   "cell_type": "code",
   "execution_count": 5,
   "id": "61837729",
   "metadata": {},
   "outputs": [],
   "source": [
    "from tutorial_agent import DroneAgent\n",
    "drone1 = DroneAgent('drone1', file_name=\"dl_sec1.py\", t_v_pair=(1, 1), box_side=[0.4]*3)"
   ]
  },
  {
   "cell_type": "markdown",
   "id": "9eb4979a",
   "metadata": {},
   "source": [
    "## 1.3 Creating scenario\n",
    "With the agent and map defined, we can now define the scenario."
   ]
  },
  {
   "cell_type": "code",
   "execution_count": 6,
   "id": "b046fe36",
   "metadata": {},
   "outputs": [],
   "source": [
    "from verse.scenario import Scenario\n",
    "scenario = Scenario()"
   ]
  },
  {
   "cell_type": "markdown",
   "id": "549cd907",
   "metadata": {},
   "source": [
    "We can set the initial condition of the agent and add the agent "
   ]
  },
  {
   "cell_type": "code",
   "execution_count": 7,
   "id": "6f54eada",
   "metadata": {},
   "outputs": [],
   "source": [
    "drone1.set_initial([[0, -0.5, -0.5, 0, 0, 0],[1, 0.5, 0.5, 0, 0, 0]], (CraftMode.Normal, TrackMode.T0))\n",
    "scenario.add_agent(drone1)"
   ]
  },
  {
   "cell_type": "markdown",
   "id": "2366ed3a",
   "metadata": {},
   "source": [
    "and set the map for the sceanrio"
   ]
  },
  {
   "cell_type": "code",
   "execution_count": 8,
   "id": "a1e2a90c",
   "metadata": {},
   "outputs": [],
   "source": [
    "scenario.set_map(map1)"
   ]
  },
  {
   "cell_type": "markdown",
   "id": "52b2b0cb",
   "metadata": {},
   "source": [
    "Since we only have one agent in the scenario, we don't need to specify a sensor. "
   ]
  },
  {
   "cell_type": "markdown",
   "id": "b9e32951",
   "metadata": {},
   "source": [
    "We can then compute simulation traces or reachable states for the scenario"
   ]
  },
  {
   "cell_type": "code",
   "execution_count": 9,
   "id": "cc1cdb50",
   "metadata": {},
   "outputs": [
    {
     "name": "stdout",
     "output_type": "stream",
     "text": [
      "[[0.04333064463648151, 0.2696066563083741, 0.35135316205944433, 0.0, 0.0, 0.0]]\n",
      "{'drone1': ['Normal', 'T0']}\n",
      "{'drone1': ('AvoidUp', 'TAvoidUp')}\n"
     ]
    }
   ],
   "source": [
    "traces_simu = scenario.simulate(60, 0.2)\n",
    "traces_veri = scenario.verify(60, 0.2)"
   ]
  },
  {
   "cell_type": "markdown",
   "id": "4e33613e",
   "metadata": {},
   "source": [
    "We can visualize the results using functions provided with Verse"
   ]
  },
  {
   "cell_type": "code",
   "execution_count": 10,
   "id": "c1d70fcf",
   "metadata": {},
   "outputs": [
    {
     "name": "stderr",
     "output_type": "stream",
     "text": [
      "ERROR:root:<<Cannot triangulate; no input points\n",
      "ERROR:root:<<Cannot triangulate; no input points\n",
      "ERROR:root:<<Cannot triangulate; no input points\n"
     ]
    },
    {
     "data": {
      "image/png": "[encoded data removed]",
      "text/plain": [
       "<PIL.Image.Image image mode=RGB size=1024x768>"
      ]
     },
     "metadata": {},
     "output_type": "display_data"
    }
   ],
   "source": [
    "from verse.plotter.plotter3D import *\n",
    "import pyvista as pv\n",
    "import warnings\n",
    "warnings.filterwarnings(\"ignore\")\n",
    "\n",
    "pv.set_jupyter_backend(None)\n",
    "fig = pv.Plotter()\n",
    "fig = plot3dMap(map1, ax=fig)\n",
    "fig = plot3dReachtube(traces_veri, 'drone1', 1, 2, 3, color = 'r', ax=fig)\n",
    "fig.set_background('#e0e0e0')\n",
    "fig.show()\n",
    "    "
   ]
  },
  {
   "cell_type": "markdown",
   "id": "1e162f7f",
   "metadata": {},
   "source": [
    "# 2. Adding multiple agents"
   ]
  },
  {
   "cell_type": "markdown",
   "id": "e947eec4",
   "metadata": {},
   "source": [
    "In the previous section, we played around with a scenario with a single drone. In this example, we will create a scenario with multiple agents and explore the potential of Verse to handle multi-agent scenarios. "
   ]
  },
  {
   "cell_type": "markdown",
   "id": "7c233fa9",
   "metadata": {},
   "source": [
    "In this example, we will look at a two drone collision avoidance example. In this example, we have two drones running in a map with three parallel tracks arranged in vertical directions. The two drones are running in the same direction on the middle track. However, the later drone is moving faster than the drone in the front and it will perform a track switch while getting close to the front drone to avoid collision. "
   ]
  },
  {
   "cell_type": "markdown",
   "id": "cbe185ab",
   "metadata": {},
   "source": [
    "We will first setup a new scenario and add the map."
   ]
  },
  {
   "cell_type": "code",
   "execution_count": 11,
   "id": "a7ce4fd2",
   "metadata": {},
   "outputs": [],
   "source": [
    "from verse.scenario import Scenario\n",
    "from tutorial_map import M4\n",
    "scenario = Scenario()\n",
    "scenario.set_map(M4())"
   ]
  },
  {
   "cell_type": "code",
   "execution_count": 12,
   "metadata": {},
   "outputs": [],
   "source": [
    "from enum import Enum, auto\n",
    "\n",
    "class CraftMode(Enum):\n",
    "    Normal = auto()\n",
    "    MoveUp = auto()\n",
    "    MoveDown = auto()\n",
    "\n",
    "class TrackMode(Enum):\n",
    "    T0 = auto()\n",
    "    T1 = auto()\n",
    "    T2 = auto()\n",
    "    M01 = auto()\n",
    "    M10 = auto()\n",
    "    M12 = auto()\n",
    "    M21 = auto()\n",
    "\n",
    "class State:\n",
    "    x: float\n",
    "    y: float\n",
    "    z: float\n",
    "    vx: float\n",
    "    vy: float\n",
    "    vz: float\n",
    "    craft_mode: CraftMode\n",
    "    track_mode: TrackMode\n",
    "\n",
    "    def __init__(self, x, y, z, vx, vy, vz, craft_mode, track_mode):\n",
    "        pass"
   ]
  },
  {
   "cell_type": "markdown",
   "id": "38300e84",
   "metadata": {},
   "source": [
    "Verse's decision logic support python <code>any</code> and <code>all</code> functions, which allows the decision logic to quantify over other agents in the scenario. This enable user to easily create multi-agent scenario. In addition, the support of user defined functions, such as the <code>is_close</code> function in example, enable user to write more complicated decision logic. In this case, the decision logic will take an additional argument <code>others</code>, which provides the states for other agents. Notice the type hint for both <code>ego</code> and <code>others</code>. The updated agent's decision logic looks like following."
   ]
  },
  {
   "cell_type": "code",
   "execution_count": 13,
   "id": "57d0747c",
   "metadata": {},
   "outputs": [],
   "source": [
    "from typing import List\n",
    "import copy\n",
    "\n",
    "def is_close(ego, other):\n",
    "    res = ((other.x - ego.x < 10 and other.x-ego.x > 8) or\\\n",
    "        (other.y-ego.y < 10 and other.y-ego.y > 8) or\\\n",
    "        (other.z-ego.z < 10 and other.z-ego.z > 8))\n",
    "    return res\n",
    "\n",
    "def decisionLogic(ego: State, others: List[State], track_map):\n",
    "    next = copy.deepcopy(ego)\n",
    "\n",
    "    if ego.craft_mode == CraftMode.Normal:\n",
    "        if any(ego.x<other.x and (is_close(ego, other) and ego.track_mode == other.track_mode) for other in others):\n",
    "            if track_map.h_exist(ego.track_mode, ego.craft_mode, CraftMode.MoveUp):\n",
    "                next.craft_mode = CraftMode.MoveUp\n",
    "                next.track_mode = track_map.h(\n",
    "                    ego.track_mode, ego.craft_mode, CraftMode.MoveUp)\n",
    "            if track_map.h_exist(ego.track_mode, ego.craft_mode, CraftMode.MoveDown):\n",
    "                next.craft_mode = CraftMode.MoveDown\n",
    "                next.track_mode = track_map.h(\n",
    "                    ego.track_mode, ego.craft_mode, CraftMode.MoveDown)\n",
    "\n",
    "    if ego.craft_mode == CraftMode.MoveUp:\n",
    "        if track_map.altitude(ego.track_mode)-ego.z > -1 and track_map.altitude(ego.track_mode)-ego.z < 1:\n",
    "            next.craft_mode = CraftMode.Normal\n",
    "            if track_map.h_exist(ego.track_mode, ego.craft_mode, CraftMode.Normal):\n",
    "                next.track_mode = track_map.h(\n",
    "                    ego.track_mode, ego.craft_mode, CraftMode.Normal)\n",
    "\n",
    "    if ego.craft_mode == CraftMode.MoveDown:\n",
    "        if track_map.altitude(ego.track_mode)-ego.z > -1 and track_map.altitude(ego.track_mode)-ego.z < 1:\n",
    "            next.craft_mode = CraftMode.Normal\n",
    "            if track_map.h_exist(ego.track_mode, ego.craft_mode, CraftMode.Normal):\n",
    "                next.track_mode = track_map.h(\n",
    "                    ego.track_mode, ego.craft_mode, CraftMode.Normal)\n",
    "\n",
    "    return next"
   ]
  },
  {
   "cell_type": "markdown",
   "id": "7c927d21",
   "metadata": {},
   "source": [
    "With the updated decision logic, we can now spawn the two agents with their initial conditions. "
   ]
  },
  {
   "cell_type": "code",
   "execution_count": 14,
   "id": "2187c4b7",
   "metadata": {},
   "outputs": [],
   "source": [
    "from tutorial_agent import DroneAgent\n",
    "drone1 = DroneAgent(\n",
    "    'drone1', file_name=\"dl_sec2.py\", t_v_pair=(1, 1), box_side=[0.4]*3)\n",
    "drone1.set_initial(\n",
    "    [[1.5, -0.5, -0.5, 0, 0, 0], [2.5, 0.5, 0.5, 0, 0, 0]],\n",
    "    (CraftMode.Normal, TrackMode.T1)\n",
    ")\n",
    "\n",
    "drone2 = DroneAgent(\n",
    "    'drone2', file_name=\"dl_sec2.py\", t_v_pair=(1, 0.5), box_side=[0.4]*3)\n",
    "drone2.set_initial(\n",
    "    [[19.5, -0.5, -0.5, 0, 0, 0], [20.5, 0.5, 0.5, 0, 0, 0]],\n",
    "    (CraftMode.Normal, TrackMode.T1)\n",
    ")"
   ]
  },
  {
   "cell_type": "markdown",
   "id": "518d6ea4",
   "metadata": {},
   "source": [
    "We can then add both agents to the scenario"
   ]
  },
  {
   "cell_type": "code",
   "execution_count": 15,
   "id": "a16287c3",
   "metadata": {},
   "outputs": [],
   "source": [
    "scenario.add_agent(drone1)\n",
    "scenario.add_agent(drone2)"
   ]
  },
  {
   "cell_type": "markdown",
   "id": "468ca941",
   "metadata": {},
   "source": [
    "With multiple agents in the scenario, we now need to add the sensor. The sensor defines how an agent is visible to other agents. In this example, we will use the default sensor function, which allows all agents to see all variables of other agents. "
   ]
  },
  {
   "cell_type": "code",
   "execution_count": 16,
   "id": "d39dbe69",
   "metadata": {},
   "outputs": [],
   "source": [
    "from tutorial_sensor import DefaultSensor\n",
    "scenario.set_sensor(DefaultSensor())"
   ]
  },
  {
   "cell_type": "markdown",
   "id": "db79f70b",
   "metadata": {},
   "source": [
    "With the scenario fully constructed, we can now simulte or verify the scenario using the simulate/verify function provided by Verse. "
   ]
  },
  {
   "cell_type": "code",
   "execution_count": 17,
   "id": "c48ad5ad",
   "metadata": {},
   "outputs": [
    {
     "name": "stdout",
     "output_type": "stream",
     "text": [
      "[[1.5274444414877735, -0.014701645224999393, -0.075719016794775, 0.0, 0.0, 0.0], [19.879804928864168, 0.43227456766397154, -0.39851528894906707, 0.0, 0.0, 0.0]]\n",
      "{'drone1': ['Normal', 'T1'], 'drone2': ['Normal', 'T1']}\n",
      "{'drone1': ('MoveDown', 'M12'), 'drone2': ['Normal', 'T1']}\n",
      "{'drone1': ('MoveUp', 'M10'), 'drone2': ['Normal', 'T1']}\n",
      "{'drone1': ('Normal', 'T2'), 'drone2': ['Normal', 'T1']}\n",
      "{'drone1': ('Normal', 'T0'), 'drone2': ['Normal', 'T1']}\n"
     ]
    }
   ],
   "source": [
    "traces_simu = scenario.simulate(60, 0.2)\n",
    "traces_veri = scenario.verify(60, 0.2)"
   ]
  },
  {
   "cell_type": "markdown",
   "id": "fe9981ec",
   "metadata": {},
   "source": [
    "We can visualize the results using functions provided with Verse"
   ]
  },
  {
   "cell_type": "code",
   "execution_count": 18,
   "id": "5d180128",
   "metadata": {},
   "outputs": [
    {
     "name": "stderr",
     "output_type": "stream",
     "text": [
      "ERROR:root:<<Cannot triangulate; no input points\n",
      "ERROR:root:<<Cannot triangulate; no input points\n",
      "ERROR:root:<<Cannot triangulate; no input points\n",
      "ERROR:root:<<Cannot triangulate; no input points\n",
      "ERROR:root:<<Cannot triangulate; no input points\n"
     ]
    },
    {
     "data": {
      "image/png": "[encoded data removed]",
      "text/plain": [
       "<PIL.Image.Image image mode=RGB size=1024x768>"
      ]
     },
     "metadata": {},
     "output_type": "display_data"
    }
   ],
   "source": [
    "from verse.plotter.plotter3D import *\n",
    "import pyvista as pv\n",
    "import warnings\n",
    "warnings.filterwarnings(\"ignore\")\n",
    "\n",
    "pv.set_jupyter_backend(None)\n",
    "fig = pv.Plotter()\n",
    "fig = plot3dMap(M4(), ax=fig)\n",
    "fig = plot3dReachtube(traces_veri, 'drone1', 1, 2, 3, color = 'r', ax=fig)\n",
    "fig = plot3dReachtube(traces_veri, 'drone2', 1, 2, 3, color = 'b', ax=fig)\n",
    "fig.set_background('#e0e0e0')\n",
    "fig.show()"
   ]
  },
  {
   "cell_type": "markdown",
   "id": "42c81f78",
   "metadata": {},
   "source": [
    "# 3. Adding safety assertions"
   ]
  },
  {
   "cell_type": "code",
   "execution_count": 19,
   "id": "9f137299",
   "metadata": {},
   "outputs": [],
   "source": [
    "from enum import Enum, auto\n",
    "\n",
    "class CraftMode(Enum):\n",
    "    Normal = auto()\n",
    "    MoveUp = auto()\n",
    "    MoveDown = auto()\n",
    "\n",
    "class TrackMode(Enum):\n",
    "    T0 = auto()\n",
    "    T1 = auto()\n",
    "    T2 = auto()\n",
    "    M01 = auto()\n",
    "    M10 = auto()\n",
    "    M12 = auto()\n",
    "    M21 = auto()\n",
    "\n",
    "class State:\n",
    "    x: float\n",
    "    y: float\n",
    "    z: float\n",
    "    vx: float\n",
    "    vy: float\n",
    "    vz: float\n",
    "    craft_mode: CraftMode\n",
    "    track_mode: TrackMode\n",
    "\n",
    "    def __init__(self, x, y, z, vx, vy, vz, craft_mode, track_mode):\n",
    "        pass"
   ]
  },
  {
   "cell_type": "markdown",
   "id": "ea4a9f2c",
   "metadata": {},
   "source": [
    "Verse allow checking safety conditions while performing simulation and verification. The safety conditions in verse can be specified using Python assert statements in the decision logic. With the <code>any</code> and <code>all</code> functions, the user can also define safety conditions between different agents. In this example, we are going to add two safety conditions: 1) the distance between two agents in all x,y,z direction should always be greater than or equal to 1.0m and 2) both drones should never enter region x\\in[40,50], y\\in[-5,5], z\\in[-10,-6]. The two safety asserts in the <code>decisionLogic</code> is shown below. "
   ]
  },
  {
   "cell_type": "code",
   "execution_count": 20,
   "id": "7a5d64cb",
   "metadata": {},
   "outputs": [],
   "source": [
    "from typing import List\n",
    "import copy\n",
    "\n",
    "def decisionLogic(ego: State, others: List[State], track_map):\n",
    "    next = copy.deepcopy(ego)\n",
    "    '''\n",
    "    '''\n",
    "\n",
    "    assert not any(ego.x-other.x < 1 and ego.x-other.x >-1 and \\\n",
    "        ego.y-other.y < 1 and ego.y-other.y > -1 and \\\n",
    "        ego.z-other.z < 1 and ego.z-other.z > -1 \\\n",
    "        for other in others),\\\n",
    "        \"Safe Seperation\"\n",
    "\n",
    "    assert not (ego.x > 40 and ego.x<50 and\\\n",
    "        ego.y>-5 and ego.y<5 and\\\n",
    "        ego.z > -10 and ego.z<-6),\\\n",
    "        \"Unsafe Region\"\n",
    "\n",
    "    return next"
   ]
  },
  {
   "cell_type": "markdown",
   "id": "361154ca",
   "metadata": {},
   "source": [
    "We can then construct the two agents and the scenario exactly as previous section."
   ]
  },
  {
   "cell_type": "code",
   "execution_count": 21,
   "id": "4251f544",
   "metadata": {},
   "outputs": [],
   "source": [
    "from verse.scenario import Scenario\n",
    "from tutorial_map import M4\n",
    "scenario = Scenario()\n",
    "scenario.set_map(M4())\n",
    "\n",
    "from tutorial_agent import DroneAgent\n",
    "drone1 = DroneAgent(\n",
    "    'drone1', file_name=\"dl_sec3.py\", t_v_pair=(1, 1), box_side=[0.4]*3)\n",
    "drone1.set_initial(\n",
    "    [[1.5, -0.5, -0.5, 0, 0, 0], [2.5, 0.5, 0.5, 0, 0, 0]],\n",
    "    (CraftMode.Normal, TrackMode.T1)\n",
    ")\n",
    "scenario.add_agent(drone1)\n",
    "\n",
    "drone2 = DroneAgent(\n",
    "    'drone2', file_name=\"dl_sec3.py\", t_v_pair=(1, 0.5), box_side=[0.4]*3)\n",
    "drone2.set_initial(\n",
    "    [[19.5, -0.5, -0.5, 0, 0, 0], [20.5, 0.5, 0.5, 0, 0, 0]],\n",
    "    (CraftMode.Normal, TrackMode.T1)\n",
    ")\n",
    "scenario.add_agent(drone2)\n",
    "\n",
    "from tutorial_sensor import DefaultSensor\n",
    "scenario.set_sensor(DefaultSensor())"
   ]
  },
  {
   "cell_type": "markdown",
   "id": "5cb2f06a",
   "metadata": {},
   "source": [
    "We can then simulate and verify the scenario and visualize the result. We can see from the result that drone1 enters the unsafe region, which causes a safety condition violation."
   ]
  },
  {
   "cell_type": "code",
   "execution_count": 22,
   "id": "736897de",
   "metadata": {},
   "outputs": [
    {
     "name": "stdout",
     "output_type": "stream",
     "text": [
      "[[1.9312563653434478, -0.37381092906341173, 0.4178279694822413, 0.0, 0.0, 0.0], [19.65881626964345, -0.28050992995496926, 0.061664536002121184, 0.0, 0.0, 0.0]]\n",
      "assert hit for drone1: \"Unsafe Region\" @ {'ego': State(x=40.10175821673612, y=-0.039154812580084464, z=-7.942172404694119, vx=0.9842831331582693, vy=-0.19685662663165338, vz=0.39999999999998614, craft_mode='Normal', track_mode='T2'), 'others': [State(x=40.30907452806768, y=-0.024596203912877312, z=0.10166446286779385, vx=0.5905698798949595, vy=-0.19685662663165493, vz=-0.40000000000001545, craft_mode='Normal', track_mode='T1')], 'track_map': <tutorial_map.M4 object at 0x000001B2D16192E0>}\n",
      "{'drone1': ['Normal', 'T1'], 'drone2': ['Normal', 'T1']}\n",
      "{'drone1': ('MoveDown', 'M12'), 'drone2': ['Normal', 'T1']}\n",
      "{'drone1': ('MoveUp', 'M10'), 'drone2': ['Normal', 'T1']}\n",
      "{'drone1': ('Normal', 'T2'), 'drone2': ['Normal', 'T1']}\n",
      "assert hit for drone1: \"Unsafe Region\"\n",
      "69\n",
      "{'drone1': ('Normal', 'T0'), 'drone2': ['Normal', 'T1']}\n"
     ]
    }
   ],
   "source": [
    "traces_simu = scenario.simulate(60, 0.2)\n",
    "traces_veri = scenario.verify(60, 0.2)"
   ]
  },
  {
   "cell_type": "code",
   "execution_count": 23,
   "id": "e31dc9ff",
   "metadata": {},
   "outputs": [
    {
     "name": "stderr",
     "output_type": "stream",
     "text": [
      "ERROR:root:<<Cannot triangulate; no input points\n",
      "ERROR:root:<<Cannot triangulate; no input points\n",
      "ERROR:root:<<Cannot triangulate; no input points\n",
      "ERROR:root:<<Cannot triangulate; no input points\n",
      "ERROR:root:<<Cannot triangulate; no input points\n",
      "ERROR:root:<<Cannot triangulate; no input points\n"
     ]
    },
    {
     "data": {
      "image/png": "[encoded data removed]",
      "text/plain": [
       "<PIL.Image.Image image mode=RGB size=1024x768>"
      ]
     },
     "metadata": {},
     "output_type": "display_data"
    }
   ],
   "source": [
    "from verse.plotter.plotter3D import *\n",
    "import pyvista as pv\n",
    "import warnings\n",
    "warnings.filterwarnings(\"ignore\")\n",
    "\n",
    "pv.set_jupyter_backend(None)\n",
    "fig = pv.Plotter()\n",
    "fig = plot3dMap(M4(), ax=fig)\n",
    "fig = plot3dReachtube(traces_veri, 'drone1', 1, 2, 3, color = 'r', ax=fig)\n",
    "fig = plot3dReachtube(traces_veri, 'drone2', 1, 2, 3, color = 'b', ax=fig)\n",
    "fig.set_background('#e0e0e0')\n",
    "fig.show()"
   ]
  },
  {
   "cell_type": "markdown",
   "id": "351d0b71",
   "metadata": {},
   "source": [
    "# 4. Creating agent flow function (work in progress)"
   ]
  },
  {
   "cell_type": "markdown",
   "id": "9ed472ab",
   "metadata": {},
   "source": [
    "In previous sections, we discussed about how to create the decision logic for agents in Verse, in section we will look into detail about how the agent flows are specified and how the pieces are combined together for an agent in Verse. "
   ]
  },
  {
   "cell_type": "markdown",
   "metadata": {},
   "source": [
    "In this example, we will look at a simple kinetic bicycle model. The dynamics equations of the car are given by \n",
    "$$\\dot{x} = v cos(\\theta)$$\n",
    "$$\\dot{y} = v sin(\\theta)$$\n",
    "$$\\dot{\\theta} = \\frac{v}{L}*tan(\\delta)$$\n",
    "$$\\dot{v} = a$$\n",
    "which are implemented as in the <code>car_dynamics</code> function below"
   ]
  },
  {
   "cell_type": "code",
   "execution_count": 1,
   "metadata": {},
   "outputs": [],
   "source": [
    "def car_dynamics(t, state, u):\n",
    "    x, y, theta, v = state\n",
    "    delta, a = u  \n",
    "    x_dot = v*np.cos(theta+delta)\n",
    "    y_dot = v*np.sin(theta+delta)\n",
    "    theta_dot = v/1.75*np.tan(delta)\n",
    "    v_dot = a \n",
    "    return [x_dot, y_dot, theta_dot, v_dot]"
   ]
  },
  {
   "cell_type": "markdown",
   "id": "dd2ddad5",
   "metadata": {},
   "source": [
    "The flow function define the continuous time evolution of agents' continuous states. It takes as input the initial states of the agent and the a time, and outputs the state of the agent from that initial states at that time. In Verse, the flow function is implemented by the <code>TC_simulate</code> function in the agent class. The <code>TC_simulate</code> takes as input a mode, a initial continuous states, a time bound, a simulation time step and the map. It will output simulation of agent dynamics at given mode starting from the initial continuous states, until the time bound with time step as an np array. Below shows an implementation of the <code>TC_simulate</code> function for the car agent. Note some detail helper functions for the car dynamics placed in <code>tutorial_utils</code> are not shown explicitly in the example below. "
   ]
  },
  {
   "cell_type": "code",
   "execution_count": 3,
   "id": "c1dda851",
   "metadata": {},
   "outputs": [],
   "source": [
    "from tutorial_utils import car_action_handler\n",
    "from typing import List \n",
    "import numpy as np \n",
    "from scipy.integrate import ode\n",
    "\n",
    "def TC_simulate(self, mode: List[str], initialCondition, time_bound, time_step, track_map=None)->np.ndarray:\n",
    "    time_bound = float(time_bound)\n",
    "    number_points = int(np.ceil(time_bound/time_step))\n",
    "    t = [round(i*time_step,10) for i in range(0,number_points)]\n",
    "\n",
    "    init = initialCondition\n",
    "    trace = [[0]+init]\n",
    "    for i in range(len(t)):\n",
    "        steering, a = car_action_handler(mode, init, track_map)\n",
    "        r = ode(car_dynamics)    \n",
    "        r.set_initial_value(init).set_f_params([steering, a])      \n",
    "        res:np.ndarray = r.integrate(r.t + time_step)\n",
    "        init = res.flatten().tolist()\n",
    "        if init[3] < 0:\n",
    "            init[3] = 0\n",
    "        trace.append([t[i] + time_step] + init) \n",
    "\n",
    "    return np.array(trace)\n"
   ]
  },
  {
   "cell_type": "markdown",
   "id": "3c2e6579",
   "metadata": {},
   "source": [
    "With the <code>TC_simulate</code> function specified, we can now combine all parts together to construct a new car agent. An agent class for Verse should have three attributes: 1) <code>id</code>: an unique identifier for each agent in a scenario, 2) <code>controller</code>: a <code>ControllerIR</code> object, which is an intermediate representation of decisionLogic in Verse. It can be constructed automatically by passing in the decision logic code strings described in previous sections, and 3) <code>TC_simulate</code> function. In this example we will create the agent class manually. However, the agent class can also be inherited from the <code>BaseAgent</code> class with proper arguments to automatically having all required fields."
   ]
  },
  {
   "cell_type": "code",
   "execution_count": 4,
   "id": "86626628",
   "metadata": {},
   "outputs": [
    {
     "name": "stderr",
     "output_type": "stream",
     "text": [
      "`polytope` failed to import `cvxopt.glpk`.\n",
      "will use `scipy.optimize.linprog`\n"
     ]
    }
   ],
   "source": [
    "from verse.parser.parser import ControllerIR\n",
    "\n",
    "class AgentCar:\n",
    "    def __init__(self, id, code = None, file_name = None):\n",
    "        self.id = id \n",
    "        self.controller = ControllerIR.parse(code, file_name)\n",
    "        self.TC_simulate = TC_simulate\n"
   ]
  },
  {
   "cell_type": "code",
   "execution_count": null,
   "id": "2a233433",
   "metadata": {},
   "outputs": [],
   "source": []
  }
 ],
 "metadata": {
  "interpreter": {
   "hash": "1baa965d5efe3ac65b79dfc60c0d706280b1da80fedb7760faf2759126c4f253"
  },
  "kernelspec": {
   "display_name": "Python 3.8.10 64-bit",
   "name": "python3"
  },
  "language_info": {
   "codemirror_mode": {
    "name": "ipython",
    "version": 3
   },
   "file_extension": ".py",
   "mimetype": "text/x-python",
   "name": "python",
   "nbconvert_exporter": "python",
   "pygments_lexer": "ipython3",
   "version": "3.8.10"
  },
  "vscode": {
   "interpreter": {
    "hash": "f525a91698caa887845889e619085521c4ece5025fa1a5d5d490d4fd60493b54"
   }
  },
  "widgets": {
   "application/vnd.jupyter.widget-state+json": {
    "state": {},
    "version_major": 2,
    "version_minor": 0
   }
  }
 },
 "nbformat": 4,
 "nbformat_minor": 5
}
